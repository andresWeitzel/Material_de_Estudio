{
 "cells": [
  {
   "cell_type": "code",
   "execution_count": 20,
   "metadata": {},
   "outputs": [],
   "source": [
    "import mysql.connector"
   ]
  },
  {
   "cell_type": "code",
   "execution_count": 21,
   "metadata": {},
   "outputs": [
    {
     "name": "stdout",
     "output_type": "stream",
     "text": [
      "('clientes',)\n",
      "('compras',)\n",
      "('productos',)\n"
     ]
    }
   ],
   "source": [
    "db=mysql.connector.connect(\n",
    "    \n",
    "    host=\"localhost\",\n",
    "    user=\"root\",\n",
    "    password=\"\",\n",
    "    database=\"test01_Python\"\n",
    ")\n",
    "\n",
    "cursor=db.cursor()\n",
    "\n",
    "cursor.execute(\"SHOW TABLES\")\n",
    "\n",
    "#Recorremos las dbs\n",
    "for tablas in cursor:\n",
    "    print(tablas)\n",
    "    "
   ]
  },
  {
   "cell_type": "code",
   "execution_count": 22,
   "metadata": {},
   "outputs": [
    {
     "name": "stdout",
     "output_type": "stream",
     "text": [
      "1 Registros Insertados Correctamente!!\n",
      "\n",
      "---------La conexion MySQL ha sido cerrada!---------\n"
     ]
    }
   ],
   "source": [
    "#Podria generarse una excepcion, asi que la vamos a controlar\n",
    "try:\n",
    "    \n",
    "    registroTablaClientes=\"INSERT INTO clientes(nombre, apellido, edad) VALUES ('Javier','Navarrete',21)\"\n",
    "    registroTablaProductos=\"INSERT INTO productos(nombre, tipo, precio) VALUES ('Pelota Fútbol N°5','Pelota',600)\"\n",
    "    registroTablaCompras=\"INSERT INTO compras(idClientes, idProductos, fecha, cantidad) VALUES (1,1,'2020-09-12','2')\"\n",
    "  \n",
    "    cursor.execute(registroTablaClientes)\n",
    "    cursor.execute(registroTablaProductos)\n",
    "    cursor.execute(registroTablaCompras)\n",
    "\n",
    "    db.commit()\n",
    "\n",
    "    print(cursor.rowcount, \"Registros Insertados Correctamente!!\")\n",
    "    \n",
    "    #Cerramos la conexion\n",
    "    cursor.close()\n",
    "\n",
    "except mysql.connector.Error as error:\n",
    "    \n",
    "    print(\"Se ha producido un error al momento de insertar los Registros\")\n",
    "    print(\"ERROR:\",error)\n",
    "    \n",
    "finally:\n",
    "    #Al finalizar nuestro programa se cierra la conexion\n",
    "    if db.is_connected():\n",
    "        db.close()\n",
    "        print(\"\\n---------La conexion MySQL ha sido cerrada!---------\")"
   ]
  },
  {
   "cell_type": "code",
   "execution_count": 23,
   "metadata": {},
   "outputs": [
    {
     "data": {
      "text/plain": [
       "'\\nCOMPROBAMOS LAS INSERCIONES DE REGISTROS \\n'"
      ]
     },
     "execution_count": 23,
     "metadata": {},
     "output_type": "execute_result"
    }
   ],
   "source": [
    "'''\n",
    "COMPROBAMOS LAS INSERCIONES DE REGISTROS \n",
    "'''"
   ]
  },
  {
   "cell_type": "code",
   "execution_count": 24,
   "metadata": {},
   "outputs": [
    {
     "name": "stdout",
     "output_type": "stream",
     "text": [
      "(1, 'Javier', 'Navarrete', 21)\n"
     ]
    }
   ],
   "source": [
    "db=mysql.connector.connect(\n",
    "    \n",
    "    host=\"localhost\",\n",
    "    user=\"root\",\n",
    "    password=\"\",\n",
    "    database=\"test01_Python\"\n",
    ")\n",
    "\n",
    "cursor=db.cursor()\n",
    "\n",
    "cursor.execute(\"SELECT * FROM clientes\")\n",
    "\n",
    "#Recorremos las dbs\n",
    "for tablas in cursor:\n",
    "    print(tablas)\n",
    "    \n"
   ]
  },
  {
   "cell_type": "code",
   "execution_count": 25,
   "metadata": {},
   "outputs": [
    {
     "name": "stdout",
     "output_type": "stream",
     "text": [
      "(1, 'Pelota Fútbol N°5', 'Pelota', 600.0)\n"
     ]
    }
   ],
   "source": [
    "\n",
    "cursor.execute(\"SELECT * FROM productos\")\n",
    "\n",
    "#Recorremos las dbs\n",
    "for tablas in cursor:\n",
    "    print(tablas)\n",
    "    "
   ]
  },
  {
   "cell_type": "code",
   "execution_count": 26,
   "metadata": {},
   "outputs": [
    {
     "name": "stdout",
     "output_type": "stream",
     "text": [
      "(1, 1, 1, '2020-09-12', 2)\n"
     ]
    }
   ],
   "source": [
    "cursor.execute(\"SELECT * FROM compras\")\n",
    "\n",
    "#Recorremos las dbs\n",
    "for tablas in cursor:\n",
    "    print(tablas)"
   ]
  },
  {
   "cell_type": "code",
   "execution_count": null,
   "metadata": {},
   "outputs": [],
   "source": []
  },
  {
   "cell_type": "code",
   "execution_count": 27,
   "metadata": {},
   "outputs": [
    {
     "name": "stdout",
     "output_type": "stream",
     "text": [
      "3 Registros Insertados Correctamente!!\n",
      "\n",
      "---------La conexion MySQL ha sido cerrada!---------\n"
     ]
    }
   ],
   "source": [
    "db=mysql.connector.connect(\n",
    "    \n",
    "    host=\"localhost\",\n",
    "    user=\"root\",\n",
    "    password=\"\",\n",
    "    database=\"test01_Python\"\n",
    ")\n",
    "\n",
    "cursor=db.cursor()\n",
    "\n",
    "\n",
    "\n",
    "'''\n",
    "INSERTAR VARIOS REGISTROS\n",
    "'''\n",
    "try:\n",
    "    \n",
    "    #------------------CLIENTES--------------------------------\n",
    "    registroTablaClientes=\"INSERT INTO clientes(nombre,apellido,edad) VALUES (%s,%s,%s)\"\n",
    "    \n",
    "    valoresTablaClientes=[\n",
    "        ('Hector','Gustamante',26),\n",
    "        ('Romina','Pereira',19),\n",
    "        ('Juan','La Paso',56)\n",
    "    ]\n",
    "    \n",
    "    #------------------PRODUCTOS--------------------------------\n",
    "    \n",
    "    registroTablaProductos=\"INSERT INTO productos(nombre,tipo,precio) VALUES (%s,%s,%s)\"\n",
    "    \n",
    "    valoresTablaProductos=[\n",
    "        ('Spalding N°6','Pelota de Basquet',3600),\n",
    "        ('Molten N°9','Pelota de Basquet',4500),\n",
    "        ('Slice Pro 1200','Raqueta de Tenis',6300)\n",
    "    ]\n",
    "    \n",
    "    #------------------COMPRAS--------------------------------\n",
    "    \n",
    "    registroTablaCompras=\"INSERT INTO compras(idClientes, idProductos, fecha, cantidad) VALUES (%s,%s,%s,%s)\"\n",
    "    \n",
    "    valoresTablaCompras=[\n",
    "        (1,1,'2020-02-01',1),\n",
    "        (2,2,'2020-06-12',2),\n",
    "        (3,3,'2020-09-08',3)\n",
    "    ]\n",
    "    \n",
    "    #=========================INSERCION==============================\n",
    "    \n",
    "    cursor.executemany(registroTablaClientes, valoresTablaClientes)\n",
    "    \n",
    "    cursor.executemany(registroTablaProductos, valoresTablaProductos)\n",
    "    \n",
    "    cursor.executemany(registroTablaCompras, valoresTablaCompras)\n",
    "    \n",
    "    db.commit()\n",
    "\n",
    "    print(cursor.rowcount, \"Registros Insertados Correctamente!!\")\n",
    "    \n",
    "    \n",
    "    #Cerramos la conexion\n",
    "    cursor.close()\n",
    "\n",
    "except mysql.connector.Error as error:\n",
    "    \n",
    "    print(\"Se ha producido un error al momento de insertar los Registros\")\n",
    "    print(\"ERROR:\",error)\n",
    "    \n",
    "finally:\n",
    "    #Al finalizar nuestro programa se cierra la conexion\n",
    "    if db.is_connected():\n",
    "        db.close()\n",
    "        print(\"\\n---------La conexion MySQL ha sido cerrada!---------\")"
   ]
  },
  {
   "cell_type": "code",
   "execution_count": null,
   "metadata": {},
   "outputs": [],
   "source": []
  }
 ],
 "metadata": {
  "kernelspec": {
   "display_name": "Python 3",
   "language": "python",
   "name": "python3"
  },
  "language_info": {
   "codemirror_mode": {
    "name": "ipython",
    "version": 3
   },
   "file_extension": ".py",
   "mimetype": "text/x-python",
   "name": "python",
   "nbconvert_exporter": "python",
   "pygments_lexer": "ipython3",
   "version": "3.8.3"
  }
 },
 "nbformat": 4,
 "nbformat_minor": 4
}
