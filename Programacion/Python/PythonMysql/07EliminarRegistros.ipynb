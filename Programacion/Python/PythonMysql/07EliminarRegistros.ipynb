{
 "cells": [
  {
   "cell_type": "code",
   "execution_count": 1,
   "metadata": {},
   "outputs": [],
   "source": [
    "import mysql.connector"
   ]
  },
  {
   "cell_type": "code",
   "execution_count": 2,
   "metadata": {},
   "outputs": [
    {
     "name": "stdout",
     "output_type": "stream",
     "text": [
      "('clientes',)\n",
      "('compras',)\n",
      "('productos',)\n"
     ]
    }
   ],
   "source": [
    "db=mysql.connector.connect(\n",
    "    \n",
    "    host=\"localhost\",\n",
    "    user=\"root\",\n",
    "    password=\"\",\n",
    "    database=\"test01_Python\"\n",
    ")\n",
    "\n",
    "cursor=db.cursor()\n",
    "\n",
    "cursor.execute(\"SHOW TABLES\")\n",
    "\n",
    "#Recorremos las dbs\n",
    "for tablas in cursor:\n",
    "    print(tablas)\n",
    "    "
   ]
  },
  {
   "cell_type": "code",
   "execution_count": 12,
   "metadata": {},
   "outputs": [
    {
     "name": "stdout",
     "output_type": "stream",
     "text": [
      "0 Registro Borrado Correctamente!!\n"
     ]
    }
   ],
   "source": [
    "\n",
    "cursor=db.cursor()\n",
    "\n",
    "#OJO, SIN EL WHERE SE BORRARAN TODOS LOS REGISTROS, AL IGUAL QUE EL USO DEL *\n",
    "query=\"DELETE FROM clientes WHERE edad=%s\"\n",
    "valor=(\"26\",)\n",
    "\n",
    "cursor.execute(query,valor)\n",
    "\n",
    "#Recorremos las dbs\n",
    "for tablas in cursor:\n",
    "    print(tablas)\n",
    "\n",
    "#Para guardar los cambios    \n",
    "db.commit()\n",
    "\n",
    "print(cursor.rowcount, \"Registro Borrado Correctamente!!\")\n",
    "  \n"
   ]
  },
  {
   "cell_type": "code",
   "execution_count": 13,
   "metadata": {},
   "outputs": [
    {
     "name": "stdout",
     "output_type": "stream",
     "text": [
      "(4, 'Juan', 'La Paso', 56)\n",
      "(3, 'Romina', 'Pereira', 19)\n"
     ]
    }
   ],
   "source": [
    "'''\n",
    "PREVENIR SQL INJECTION\n",
    "'''\n",
    "cursor=db.cursor()\n",
    "\n",
    "query=\"SELECT * FROM clientes ORDER BY nombre\"\n",
    "       \n",
    "cursor.execute(query)\n",
    "\n",
    "#Recorremos las dbs\n",
    "for tablas in cursor:\n",
    "    print(tablas)\n",
    "  \n"
   ]
  },
  {
   "cell_type": "code",
   "execution_count": null,
   "metadata": {},
   "outputs": [],
   "source": [
    "#Para Eliminar tablas seria lo mismo que registros..\n",
    "#sql = \"DROP TABLE IF EXISTS customers\"\n"
   ]
  }
 ],
 "metadata": {
  "kernelspec": {
   "display_name": "Python 3",
   "language": "python",
   "name": "python3"
  },
  "language_info": {
   "codemirror_mode": {
    "name": "ipython",
    "version": 3
   },
   "file_extension": ".py",
   "mimetype": "text/x-python",
   "name": "python",
   "nbconvert_exporter": "python",
   "pygments_lexer": "ipython3",
   "version": "3.8.3"
  }
 },
 "nbformat": 4,
 "nbformat_minor": 4
}
