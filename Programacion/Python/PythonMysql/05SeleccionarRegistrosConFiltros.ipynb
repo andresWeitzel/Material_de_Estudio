{
 "cells": [
  {
   "cell_type": "code",
   "execution_count": 20,
   "metadata": {},
   "outputs": [],
   "source": [
    "import mysql.connector"
   ]
  },
  {
   "cell_type": "code",
   "execution_count": 21,
   "metadata": {},
   "outputs": [
    {
     "name": "stdout",
     "output_type": "stream",
     "text": [
      "('clientes',)\n",
      "('compras',)\n",
      "('productos',)\n"
     ]
    }
   ],
   "source": [
    "db=mysql.connector.connect(\n",
    "    \n",
    "    host=\"localhost\",\n",
    "    user=\"root\",\n",
    "    password=\"\",\n",
    "    database=\"test01_Python\"\n",
    ")\n",
    "\n",
    "cursor=db.cursor()\n",
    "\n",
    "cursor.execute(\"SHOW TABLES\")\n",
    "\n",
    "#Recorremos las dbs\n",
    "for tablas in cursor:\n",
    "    print(tablas)\n",
    "    "
   ]
  },
  {
   "cell_type": "code",
   "execution_count": 22,
   "metadata": {},
   "outputs": [
    {
     "name": "stdout",
     "output_type": "stream",
     "text": [
      "(1, 1, 1, '2020-09-12', 2)\n",
      "(2, 1, 1, '2020-02-01', 1)\n",
      "(3, 2, 2, '2020-06-12', 2)\n",
      "(4, 3, 3, '2020-09-08', 3)\n"
     ]
    }
   ],
   "source": [
    "\n",
    "cursor=db.cursor()\n",
    "\n",
    "cursor.execute(\"SELECT * FROM compras\")\n",
    "\n",
    "#Recorremos las dbs\n",
    "for tablas in cursor:\n",
    "    print(tablas)\n",
    "    "
   ]
  },
  {
   "cell_type": "code",
   "execution_count": 23,
   "metadata": {},
   "outputs": [
    {
     "name": "stdout",
     "output_type": "stream",
     "text": [
      "3 Registros Insertados Correctamente!!\n"
     ]
    }
   ],
   "source": [
    "'''\n",
    "Vamos a insertar más compras\n",
    "'''\n",
    "\n",
    "cursor=db.cursor()\n",
    "\n",
    "try:\n",
    "    \n",
    "    registroTablaCompras=\"INSERT INTO compras(fecha, cantidad) VALUES (%s,%s)\"\n",
    "    \n",
    "    valores=[\n",
    "        ('2020-09-16',6),\n",
    "        ('2020-09-16',9),\n",
    "        ('2020-09-16',12)\n",
    "    ]\n",
    "    \n",
    "    cursor.executemany(registroTablaCompras, valores)\n",
    "    \n",
    "    db.commit()\n",
    "\n",
    "    print(cursor.rowcount, \"Registros Insertados Correctamente!!\")\n",
    "    \n",
    "    \n",
    "    #Cerramos la conexion\n",
    "    cursor.close()\n",
    "\n",
    "except mysql.connector.Error as error:\n",
    "    \n",
    "    print(\"Se ha producido un error al momento de insertar los Registros\")\n",
    "    print(\"ERROR:\",error)\n",
    "    "
   ]
  },
  {
   "cell_type": "code",
   "execution_count": 24,
   "metadata": {},
   "outputs": [
    {
     "name": "stdout",
     "output_type": "stream",
     "text": [
      "(1, 1, 1, '2020-09-12', 2)\n",
      "(2, 1, 1, '2020-02-01', 1)\n",
      "(3, 2, 2, '2020-06-12', 2)\n",
      "(4, 3, 3, '2020-09-08', 3)\n",
      "(5, None, None, '2020-09-16', 6)\n",
      "(6, None, None, '2020-09-16', 9)\n",
      "(7, None, None, '2020-09-16', 12)\n"
     ]
    }
   ],
   "source": [
    "\n",
    "cursor=db.cursor()\n",
    "\n",
    "cursor.execute(\"SELECT * FROM compras\")\n",
    "\n",
    "#Recorremos las dbs\n",
    "for tablas in cursor:\n",
    "    print(tablas)\n",
    "    "
   ]
  },
  {
   "cell_type": "code",
   "execution_count": 10,
   "metadata": {},
   "outputs": [
    {
     "name": "stdout",
     "output_type": "stream",
     "text": [
      "(1, '2020-09-12', 2)\n",
      "(2, 'now()', 6)\n",
      "(3, 'now()', 9)\n",
      "(5, '2020-09-16', 6)\n",
      "(6, '2020-09-16', 9)\n"
     ]
    }
   ],
   "source": [
    "\n",
    "cursor=db.cursor()\n",
    "\n",
    "cursor.execute(\"SELECT * FROM compras WHERE cantidad < 10\")\n",
    "\n",
    "#Recorremos las dbs\n",
    "for tablas in cursor:\n",
    "    print(tablas)\n",
    "    "
   ]
  },
  {
   "cell_type": "code",
   "execution_count": 11,
   "metadata": {},
   "outputs": [
    {
     "name": "stdout",
     "output_type": "stream",
     "text": [
      "(4, 'now()', 12)\n",
      "(7, '2020-09-16', 12)\n"
     ]
    }
   ],
   "source": [
    "cursor=db.cursor()\n",
    "\n",
    "cursor.execute(\"SELECT * FROM compras WHERE cantidad > 10\")\n",
    "\n",
    "#Recorremos las dbs\n",
    "for tablas in cursor:\n",
    "    print(tablas)\n",
    "    "
   ]
  },
  {
   "cell_type": "code",
   "execution_count": 12,
   "metadata": {},
   "outputs": [
    {
     "name": "stdout",
     "output_type": "stream",
     "text": [
      "(4, 'now()', 12)\n",
      "(7, '2020-09-16', 12)\n"
     ]
    }
   ],
   "source": [
    "cursor=db.cursor()\n",
    "\n",
    "cursor.execute(\"SELECT * FROM compras WHERE cantidad LIKE '1%'\")\n",
    "\n",
    "#Recorremos las dbs\n",
    "for tablas in cursor:\n",
    "    print(tablas)\n",
    "   "
   ]
  },
  {
   "cell_type": "code",
   "execution_count": 13,
   "metadata": {},
   "outputs": [
    {
     "name": "stdout",
     "output_type": "stream",
     "text": [
      "(1, '2020-09-12', 2)\n",
      "(5, '2020-09-16', 6)\n",
      "(6, '2020-09-16', 9)\n",
      "(7, '2020-09-16', 12)\n"
     ]
    }
   ],
   "source": [
    "cursor=db.cursor()\n",
    "\n",
    "cursor.execute(\"SELECT * FROM compras WHERE fecha LIKE '%2020%'\")\n",
    "\n",
    "#Recorremos las dbs\n",
    "for tablas in cursor:\n",
    "    print(tablas)\n",
    "  "
   ]
  },
  {
   "cell_type": "code",
   "execution_count": 19,
   "metadata": {},
   "outputs": [
    {
     "name": "stdout",
     "output_type": "stream",
     "text": [
      "(1, '2020-09-12', 2)\n",
      "(5, '2020-09-16', 6)\n",
      "(6, '2020-09-16', 9)\n",
      "(7, '2020-09-16', 12)\n"
     ]
    }
   ],
   "source": [
    "'''\n",
    "PREVENIR SQL INJECTION\n",
    "'''\n",
    "cursor=db.cursor()\n",
    "\n",
    "query=\"SELECT * FROM compras WHERE fecha LIKE '%2020%'\"\n",
    "       \n",
    "cursor.execute(query)\n",
    "\n",
    "#Recorremos las dbs\n",
    "for tablas in cursor:\n",
    "    print(tablas)\n",
    "  \n"
   ]
  },
  {
   "cell_type": "code",
   "execution_count": null,
   "metadata": {},
   "outputs": [],
   "source": []
  }
 ],
 "metadata": {
  "kernelspec": {
   "display_name": "Python 3",
   "language": "python",
   "name": "python3"
  },
  "language_info": {
   "codemirror_mode": {
    "name": "ipython",
    "version": 3
   },
   "file_extension": ".py",
   "mimetype": "text/x-python",
   "name": "python",
   "nbconvert_exporter": "python",
   "pygments_lexer": "ipython3",
   "version": "3.8.3"
  }
 },
 "nbformat": 4,
 "nbformat_minor": 4
}
