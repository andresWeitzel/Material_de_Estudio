{
 "cells": [
  {
   "cell_type": "code",
   "execution_count": 1,
   "metadata": {},
   "outputs": [],
   "source": [
    "#IMPORTANTE:Instalamos el controlador de mysql\n",
    "#pip install mysql-connector-python"
   ]
  },
  {
   "cell_type": "code",
   "execution_count": 2,
   "metadata": {},
   "outputs": [],
   "source": [
    "#Importamos el controlador\n",
    "import mysql.connector"
   ]
  },
  {
   "cell_type": "code",
   "execution_count": 3,
   "metadata": {},
   "outputs": [
    {
     "name": "stdout",
     "output_type": "stream",
     "text": [
      "<mysql.connector.connection.MySQLConnection object at 0x000001CB0B418760>\n"
     ]
    }
   ],
   "source": [
    "'''\n",
    "En el siguiente paso nos conectaremos con nuestro usuario a el \n",
    "sistema de db ya creada, por ende, \n",
    "se debera levantar el servicio de mysql primeramente, ya que si\n",
    "no esta activo el conector no tiene \n",
    "sentido.\n",
    "En este caso usaremos xampp como gestor de db, del lado del servidor.\n",
    "'''\n",
    "#Conexion al sistema de dbs\n",
    "db = mysql.connector.connect(\n",
    "    \n",
    "    host='localhost',\n",
    "    user='root',\n",
    "    password=''\n",
    ")\n",
    "\n",
    "print(db)"
   ]
  },
  {
   "cell_type": "code",
   "execution_count": 4,
   "metadata": {},
   "outputs": [],
   "source": [
    "'''\n",
    "Ahora que establecimos la conexion con nuestro usuario al sistema\n",
    "de base de datos vamos a \n",
    "crear una db.\n",
    "Vamos a establecer un cursor, que es un objeto de acceso a datos que\n",
    "se puede utilizar para recorrer \n",
    "el conjunto de filas de una tabla o insertar nuevas filas en una\n",
    "tabla, crear base de datos, etc.\n",
    "'''\n",
    "\n",
    "cursor = db.cursor()\n",
    "\n",
    "#Siempre se trabaja con el comando drop, sea para dbs o para tablas, por orden natural no se puede\n",
    "#sobreescribir una db, se debera borrar primero si existiese\n",
    "cursor.execute(\"DROP DATABASE IF EXISTS test02_Python\")\n",
    "\n",
    "cursor.execute(\"CREATE DATABASE test02_Python\")"
   ]
  },
  {
   "cell_type": "code",
   "execution_count": 7,
   "metadata": {},
   "outputs": [
    {
     "name": "stdout",
     "output_type": "stream",
     "text": [
      "('ModificacionesPHPCORE',)\n",
      "('articulos',)\n",
      "('colegio',)\n",
      "('db_clientes',)\n",
      "('db_empleados',)\n",
      "('db_gastos',)\n",
      "('db_indumentaria',)\n",
      "('db_laboratorio',)\n",
      "('db_pruebas2',)\n",
      "('db_temp_hum',)\n",
      "('db_temp_hum_web',)\n",
      "('db_versionador_v2',)\n",
      "('employees',)\n",
      "('farmacia',)\n",
      "('farmaco_ntz184',)\n",
      "('information_schema',)\n",
      "('iot_productos',)\n",
      "('medmask',)\n",
      "('mysql',)\n",
      "('northwind',)\n",
      "('performance_schema',)\n",
      "('phpmyadmin',)\n",
      "('production',)\n",
      "('productos',)\n",
      "('registro_de_operaciones',)\n",
      "('test',)\n",
      "('test01_python',)\n",
      "('test02_python',)\n",
      "('test_arduino',)\n"
     ]
    }
   ],
   "source": [
    "'''\n",
    "Vamos a comprobar que exista la db.\n",
    "Volvemos a ejecutar la conexion, ya que las conexiones trabajan por sockets\n",
    "y a su vez por tiempo.\n",
    "'''\n",
    "\n",
    "db = mysql.connector.connect(\n",
    "    \n",
    "    host='localhost',\n",
    "    user='root',\n",
    "    password=''\n",
    ")\n",
    "\n",
    "cursor = db.cursor()\n",
    "\n",
    "cursor.execute(\"SHOW DATABASES\")\n",
    "\n",
    "\n",
    "#Recorremos las dbs\n",
    "\n",
    "for dbs in cursor:\n",
    "    \n",
    "    print(dbs)\n",
    "\n",
    "\n",
    "    \n",
    "\n"
   ]
  },
  {
   "cell_type": "code",
   "execution_count": null,
   "metadata": {},
   "outputs": [],
   "source": []
  }
 ],
 "metadata": {
  "kernelspec": {
   "display_name": "Python 3",
   "language": "python",
   "name": "python3"
  },
  "language_info": {
   "codemirror_mode": {
    "name": "ipython",
    "version": 3
   },
   "file_extension": ".py",
   "mimetype": "text/x-python",
   "name": "python",
   "nbconvert_exporter": "python",
   "pygments_lexer": "ipython3",
   "version": "3.8.3"
  }
 },
 "nbformat": 4,
 "nbformat_minor": 4
}
