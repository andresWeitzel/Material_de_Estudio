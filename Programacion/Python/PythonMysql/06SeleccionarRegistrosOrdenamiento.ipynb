{
 "cells": [
  {
   "cell_type": "code",
   "execution_count": 1,
   "metadata": {},
   "outputs": [],
   "source": [
    "import mysql.connector"
   ]
  },
  {
   "cell_type": "code",
   "execution_count": 2,
   "metadata": {},
   "outputs": [
    {
     "name": "stdout",
     "output_type": "stream",
     "text": [
      "('clientes',)\n",
      "('compras',)\n",
      "('productos',)\n"
     ]
    }
   ],
   "source": [
    "db=mysql.connector.connect(\n",
    "    \n",
    "    host=\"localhost\",\n",
    "    user=\"root\",\n",
    "    password=\"\",\n",
    "    database=\"test01_Python\"\n",
    ")\n",
    "\n",
    "cursor=db.cursor()\n",
    "\n",
    "cursor.execute(\"SHOW TABLES\")\n",
    "\n",
    "#Recorremos las dbs\n",
    "for tablas in cursor:\n",
    "    print(tablas)\n",
    "    "
   ]
  },
  {
   "cell_type": "code",
   "execution_count": 3,
   "metadata": {},
   "outputs": [
    {
     "name": "stdout",
     "output_type": "stream",
     "text": [
      "(2, 'Hector', 'Gustamante', 26)\n",
      "(1, 'Javier', 'Navarrete', 21)\n",
      "(4, 'Juan', 'La Paso', 56)\n",
      "(3, 'Romina', 'Pereira', 19)\n"
     ]
    }
   ],
   "source": [
    "'''\n",
    "PREVENIR SQL INJECTION\n",
    "'''\n",
    "cursor=db.cursor()\n",
    "\n",
    "query=\"SELECT * FROM clientes ORDER BY nombre\"\n",
    "       \n",
    "cursor.execute(query)\n",
    "\n",
    "#Recorremos las dbs\n",
    "for tablas in cursor:\n",
    "    print(tablas)\n",
    "  \n"
   ]
  },
  {
   "cell_type": "code",
   "execution_count": 4,
   "metadata": {},
   "outputs": [
    {
     "name": "stdout",
     "output_type": "stream",
     "text": [
      "(3, 'Romina', 'Pereira', 19)\n",
      "(1, 'Javier', 'Navarrete', 21)\n",
      "(2, 'Hector', 'Gustamante', 26)\n",
      "(4, 'Juan', 'La Paso', 56)\n"
     ]
    }
   ],
   "source": [
    "'''\n",
    "PREVENIR SQL INJECTION\n",
    "'''\n",
    "cursor=db.cursor()\n",
    "\n",
    "query=\"SELECT * FROM clientes ORDER BY edad\"\n",
    "       \n",
    "cursor.execute(query)\n",
    "\n",
    "#Recorremos las dbs\n",
    "for tablas in cursor:\n",
    "    print(tablas)\n",
    "  \n"
   ]
  },
  {
   "cell_type": "code",
   "execution_count": 9,
   "metadata": {},
   "outputs": [
    {
     "name": "stdout",
     "output_type": "stream",
     "text": [
      "(4, 'Juan', 'La Paso', 56)\n",
      "(2, 'Hector', 'Gustamante', 26)\n",
      "(1, 'Javier', 'Navarrete', 21)\n",
      "(3, 'Romina', 'Pereira', 19)\n"
     ]
    }
   ],
   "source": [
    "'''\n",
    "PREVENIR SQL INJECTION\n",
    "'''\n",
    "cursor=db.cursor()\n",
    "\n",
    "query=\"SELECT * FROM clientes ORDER BY edad DESC\"\n",
    "       \n",
    "cursor.execute(query)\n",
    "\n",
    "#Recorremos las dbs\n",
    "for tablas in cursor:\n",
    "    print(tablas)\n",
    "  \n"
   ]
  },
  {
   "cell_type": "code",
   "execution_count": null,
   "metadata": {},
   "outputs": [],
   "source": []
  }
 ],
 "metadata": {
  "kernelspec": {
   "display_name": "Python 3",
   "language": "python",
   "name": "python3"
  },
  "language_info": {
   "codemirror_mode": {
    "name": "ipython",
    "version": 3
   },
   "file_extension": ".py",
   "mimetype": "text/x-python",
   "name": "python",
   "nbconvert_exporter": "python",
   "pygments_lexer": "ipython3",
   "version": "3.8.3"
  }
 },
 "nbformat": 4,
 "nbformat_minor": 4
}
