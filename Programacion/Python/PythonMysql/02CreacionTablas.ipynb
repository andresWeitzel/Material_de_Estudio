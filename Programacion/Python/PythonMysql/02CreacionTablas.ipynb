{
 "cells": [
  {
   "cell_type": "code",
   "execution_count": 4,
   "metadata": {},
   "outputs": [],
   "source": [
    "import mysql.connector"
   ]
  },
  {
   "cell_type": "code",
   "execution_count": 5,
   "metadata": {},
   "outputs": [
    {
     "name": "stdout",
     "output_type": "stream",
     "text": [
      "('clientes',)\n",
      "('compras',)\n",
      "('productos',)\n"
     ]
    }
   ],
   "source": [
    "#Una vez que creamos y sabemos con cual db vamos a trabajar, agregamos la misma como parametro\n",
    "db=mysql.connector.connect(\n",
    "    \n",
    "    host=\"localhost\",\n",
    "    user=\"root\",\n",
    "    password=\"\",\n",
    "    database=\"test01_Python\"\n",
    ")\n",
    "\n",
    "cursor=db.cursor()\n",
    "\n",
    "#Uso de llave primaria\n",
    "#https://www.w3schools.com/python/python_mysql_create_table.asp\n",
    "cursor.execute(\"DROP TABLE IF EXISTS clientes\")\n",
    "cursor.execute(\"DROP TABLE IF EXISTS compras\")\n",
    "cursor.execute(\"DROP TABLE IF EXISTS productos\")\n",
    "\n",
    "cursor.execute(\"CREATE TABLE clientes(id INT AUTO_INCREMENT PRIMARY KEY, nombre VARCHAR(30),apellido VARCHAR(30),edad INT(3))\")\n",
    "cursor.execute(\"CREATE TABLE productos(id INT AUTO_INCREMENT PRIMARY KEY, nombre VARCHAR(30), tipo VARCHAR(20), precio FLOAT(10))\")\n",
    "cursor.execute(\"CREATE TABLE compras(id INT AUTO_INCREMENT PRIMARY KEY, idClientes INT, idProductos INT, fecha VARCHAR(50), cantidad INT)\")\n",
    "\n",
    "\n",
    "cursor.execute(\"SHOW TABLES\")\n",
    "\n",
    "#Recorremos las dbs\n",
    "for tablas in cursor:\n",
    "    print(tablas)\n",
    "    \n",
    "\n"
   ]
  },
  {
   "cell_type": "code",
   "execution_count": null,
   "metadata": {},
   "outputs": [],
   "source": []
  },
  {
   "cell_type": "code",
   "execution_count": null,
   "metadata": {},
   "outputs": [],
   "source": []
  }
 ],
 "metadata": {
  "kernelspec": {
   "display_name": "Python 3",
   "language": "python",
   "name": "python3"
  },
  "language_info": {
   "codemirror_mode": {
    "name": "ipython",
    "version": 3
   },
   "file_extension": ".py",
   "mimetype": "text/x-python",
   "name": "python",
   "nbconvert_exporter": "python",
   "pygments_lexer": "ipython3",
   "version": "3.8.3"
  }
 },
 "nbformat": 4,
 "nbformat_minor": 4
}
