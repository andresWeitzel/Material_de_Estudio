{
 "cells": [
  {
   "cell_type": "code",
   "execution_count": 1,
   "metadata": {},
   "outputs": [],
   "source": [
    "import logging\n",
    "from datetime import datetime\n",
    "\n",
    "logging.basicConfig(handlers=[logging.FileHandler(filename=\"C:/Users/andre/OneDrive/Escritorio/ArchivosPython/Ventas/TestArchivoLog.txt\",\n",
    "                                                  encoding='utf-8',mode='a+')],\n",
    "                   format=\"%(asctime)s %(name)s:%(levelname)s:%(message)s\",\n",
    "                   datefmt=\"%d-%m-%Y %H:%M:%S %p\",\n",
    "                   level=logging.DEBUG\n",
    "                   )\n",
    "\n",
    "logging.debug('Este mensaje es para DEBUG')\n",
    "logging.info('Este mensaje es para INFO')\n",
    "logging.warning('Este mensaje es para ADVERTENCIA')\n",
    "logging.error('Este mensaje es un ERROR')\n",
    "\n",
    "\n"
   ]
  },
  {
   "cell_type": "code",
   "execution_count": null,
   "metadata": {},
   "outputs": [],
   "source": []
  }
 ],
 "metadata": {
  "kernelspec": {
   "display_name": "Python 3",
   "language": "python",
   "name": "python3"
  },
  "language_info": {
   "codemirror_mode": {
    "name": "ipython",
    "version": 3
   },
   "file_extension": ".py",
   "mimetype": "text/x-python",
   "name": "python",
   "nbconvert_exporter": "python",
   "pygments_lexer": "ipython3",
   "version": "3.8.3"
  }
 },
 "nbformat": 4,
 "nbformat_minor": 4
}
