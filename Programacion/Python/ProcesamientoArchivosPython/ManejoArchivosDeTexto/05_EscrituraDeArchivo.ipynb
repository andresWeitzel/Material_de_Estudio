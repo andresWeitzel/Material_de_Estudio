{
 "cells": [
  {
   "cell_type": "code",
   "execution_count": 4,
   "metadata": {},
   "outputs": [],
   "source": [
    "with open(\"C:/Users/andre/OneDrive/Escritorio/archivo02.txt\",'w') as archivo:\n",
    "    archivo.write(\"Archivo Modificado \\n\")\n",
    "    archivo.write(\"Archivo Modificado X2\")\n",
    "    \n",
    "    "
   ]
  },
  {
   "cell_type": "code",
   "execution_count": 6,
   "metadata": {},
   "outputs": [],
   "source": [
    "with open(\"C:/Users/andre/OneDrive/Escritorio/archivo02.txt\",'w') as archivo:\n",
    "    \n",
    "    listaDeCaracteres=[\"Archivo Modificado\\n\" , \"Archivo Modificado X2\\n\" , \"Archivo Modificado X3\\n\"]\n",
    "    \n",
    "    archivo.writelines(listaDeCaracteres)\n",
    "    \n",
    "    "
   ]
  },
  {
   "cell_type": "code",
   "execution_count": null,
   "metadata": {},
   "outputs": [],
   "source": []
  }
 ],
 "metadata": {
  "kernelspec": {
   "display_name": "Python 3",
   "language": "python",
   "name": "python3"
  },
  "language_info": {
   "codemirror_mode": {
    "name": "ipython",
    "version": 3
   },
   "file_extension": ".py",
   "mimetype": "text/x-python",
   "name": "python",
   "nbconvert_exporter": "python",
   "pygments_lexer": "ipython3",
   "version": "3.8.3"
  }
 },
 "nbformat": 4,
 "nbformat_minor": 4
}
