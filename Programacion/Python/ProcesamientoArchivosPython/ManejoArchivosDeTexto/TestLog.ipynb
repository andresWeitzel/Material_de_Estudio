{
 "cells": [
  {
   "cell_type": "code",
   "execution_count": 28,
   "metadata": {},
   "outputs": [
    {
     "ename": "IndentationError",
     "evalue": "unexpected indent (<ipython-input-28-8cb4205f1f91>, line 13)",
     "output_type": "error",
     "traceback": [
      "\u001b[1;36m  File \u001b[1;32m\"<ipython-input-28-8cb4205f1f91>\"\u001b[1;36m, line \u001b[1;32m13\u001b[0m\n\u001b[1;33m    logging.basicConfig(filename=\"C:/Users/andre/OneDrive/Escritorio/ArchivosPython/test.txt\", encoding='utf-8', level=logging.DEBUG)\u001b[0m\n\u001b[1;37m    ^\u001b[0m\n\u001b[1;31mIndentationError\u001b[0m\u001b[1;31m:\u001b[0m unexpected indent\n"
     ]
    }
   ],
   "source": [
    "import logging\n",
    "from datetime import datetime \n",
    "\n",
    "fechaActual=datetime.now()\n",
    "fechaActual=fechaActual.strftime('%d/%m/%Y %H:%M:%S %p')\n",
    "\n",
    "\n",
    "nuevaLista=[]\n",
    " \n",
    "#with open(\"C:/Users/andre/OneDrive/Escritorio/ArchivosPython/test.txt\",'w') as archivo:\n",
    "    \n",
    "    #a=a\n",
    "    logging.basicConfig(filename=\"C:/Users/andre/OneDrive/Escritorio/ArchivosPython/test.txt\", encoding='utf-8', level=logging.DEBUG)\n",
    "    logging.error('Se ha producido un error (' + fechaActual+ ')')"
   ]
  },
  {
   "cell_type": "code",
   "execution_count": null,
   "metadata": {},
   "outputs": [],
   "source": []
  }
 ],
 "metadata": {
  "kernelspec": {
   "display_name": "Python 3",
   "language": "python",
   "name": "python3"
  },
  "language_info": {
   "codemirror_mode": {
    "name": "ipython",
    "version": 3
   },
   "file_extension": ".py",
   "mimetype": "text/x-python",
   "name": "python",
   "nbconvert_exporter": "python",
   "pygments_lexer": "ipython3",
   "version": "3.8.3"
  }
 },
 "nbformat": 4,
 "nbformat_minor": 4
}
