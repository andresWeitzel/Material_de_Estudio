{
 "cells": [
  {
   "cell_type": "code",
   "execution_count": 1,
   "metadata": {},
   "outputs": [],
   "source": [
    "\n",
    "archivo=open(\"C:/Users/andre/OneDrive/Escritorio/archivo.txt\")\n"
   ]
  },
  {
   "cell_type": "code",
   "execution_count": 2,
   "metadata": {
    "scrolled": false
   },
   "outputs": [
    {
     "name": "stdout",
     "output_type": "stream",
     "text": [
      "['Miguel $100\\n', 'Javier $200\\n', 'Carlos $4000\\n', 'Miguelina $8000']\n"
     ]
    }
   ],
   "source": [
    "\"\"\"\n",
    "lineaPorLinea=archivo.readline()\n",
    "\n",
    "while lineaPorLinea != '':\n",
    "    lineaPorLinea=archivo.readline()\n",
    "    print(lineaPorLinea)\n",
    "\"\"\"\n",
    "\"\"\"\n",
    "for lineaPorLinea in archivo:\n",
    "    \n",
    "    print(lineaPorLinea)\n",
    "    \n",
    "    lineaPorLinea=archivo.readline()\n",
    "    \n",
    "    print(lineaPorLinea)\n",
    "\"\"\"\n",
    "\n",
    "lineaPorLinea=archivo.readlines()\n",
    "print(lineaPorLinea)\n",
    "\n",
    "archivo.close()"
   ]
  },
  {
   "cell_type": "code",
   "execution_count": null,
   "metadata": {},
   "outputs": [],
   "source": []
  },
  {
   "cell_type": "code",
   "execution_count": null,
   "metadata": {},
   "outputs": [],
   "source": []
  }
 ],
 "metadata": {
  "kernelspec": {
   "display_name": "Python 3",
   "language": "python",
   "name": "python3"
  },
  "language_info": {
   "codemirror_mode": {
    "name": "ipython",
    "version": 3
   },
   "file_extension": ".py",
   "mimetype": "text/x-python",
   "name": "python",
   "nbconvert_exporter": "python",
   "pygments_lexer": "ipython3",
   "version": "3.8.3"
  }
 },
 "nbformat": 4,
 "nbformat_minor": 4
}
