{
 "cells": [
  {
   "cell_type": "code",
   "execution_count": 4,
   "metadata": {},
   "outputs": [],
   "source": [
    "import logging\n",
    "from datetime import datetime\n",
    "\n",
    "path=\"C:/Users/andre/OneDrive/Escritorio/ArchivosPython/Ventas/TestArchivoLog.txt\"\n",
    "\n",
    "with open(path, 'r+') as archivo:\n",
    "\n",
    "    logging.basicConfig(handlers=[logging.FileHandler(filename=path,\n",
    "                                                      encoding='utf-8',mode='a+')],\n",
    "                       format=\"%(asctime)s %(name)s:%(levelname)s:%(message)s\",\n",
    "                       datefmt=\"%d-%m-%Y %H:%M:%S %p\",\n",
    "                       level=logging.DEBUG\n",
    "                       )\n",
    "    '''\n",
    "        logging.debug('Este mensaje es para DEBUG')\n",
    "        logging.info('Este mensaje es para INFO')\n",
    "        logging.warning('Este mensaje es para ADVERTENCIA')\n",
    "        logging.error('Este mensaje es un ERROR')\n",
    "    '''\n"
   ]
  },
  {
   "cell_type": "code",
   "execution_count": 6,
   "metadata": {},
   "outputs": [
    {
     "name": "stdout",
     "output_type": "stream",
     "text": [
      "division by zero\n"
     ]
    }
   ],
   "source": [
    "try:\n",
    "\n",
    "    operacion01= 12 / 0\n",
    "    \n",
    "    print(operacion01)\n",
    "\n",
    "except ZeroDivisionError as error:\n",
    "    \n",
    "    print(error)\n",
    "    \n",
    "    logging.error(error)\n",
    "\n",
    "    "
   ]
  },
  {
   "cell_type": "code",
   "execution_count": null,
   "metadata": {},
   "outputs": [],
   "source": []
  },
  {
   "cell_type": "code",
   "execution_count": 8,
   "metadata": {},
   "outputs": [
    {
     "name": "stdout",
     "output_type": "stream",
     "text": [
      "name 'asd' is not defined\n"
     ]
    }
   ],
   "source": [
    "try:\n",
    "\n",
    "    operacion01= 12 / asd\n",
    "    \n",
    "    print(operacion01)\n",
    "\n",
    "except Exception as ex:\n",
    "    \n",
    "    print(ex)\n",
    "    \n",
    "    logging.error(ex)"
   ]
  },
  {
   "cell_type": "code",
   "execution_count": null,
   "metadata": {},
   "outputs": [],
   "source": []
  },
  {
   "cell_type": "code",
   "execution_count": 14,
   "metadata": {},
   "outputs": [
    {
     "name": "stdout",
     "output_type": "stream",
     "text": [
      "408\n",
      "120\n",
      "name 'mahjvahdv' is not defined\n",
      "------------------Se finaliza la Operacion----------------------\n"
     ]
    }
   ],
   "source": [
    "try:\n",
    "\n",
    "    operacion01= 12 * 34\n",
    "    \n",
    "    logging.info(\"El resultado de la Operacion 01 es : \" + str(operacion01))\n",
    "    \n",
    "    print(operacion01)\n",
    "    \n",
    "    \n",
    "    \n",
    "    operacion02= 120 + 0\n",
    "    \n",
    "    logging.info(\"El resultado de la Operacion 02 es : \" + str(operacion02))\n",
    "    \n",
    "    print(operacion02)\n",
    "    \n",
    "    \n",
    "    \n",
    "    operacion03= 2 + mahjvahdv\n",
    "    \n",
    "    logging.info(\"El resultado de la Operacion 03 es : \" + str(operacion03))\n",
    "    \n",
    "    print(operacion03)\n",
    "    \n",
    "    \n",
    "\n",
    "except Exception as ex:\n",
    "    \n",
    "    print(ex)\n",
    "    \n",
    "    logging.error(ex)\n",
    "    \n",
    "\n",
    "finally:\n",
    "    \n",
    "    msj=\"------------------Se finaliza la Operacion----------------------\"\n",
    "    \n",
    "    logging.debug(msj)\n",
    "    \n",
    "    print(msj)\n",
    "    \n",
    "    "
   ]
  },
  {
   "cell_type": "code",
   "execution_count": null,
   "metadata": {},
   "outputs": [],
   "source": []
  }
 ],
 "metadata": {
  "kernelspec": {
   "display_name": "Python 3",
   "language": "python",
   "name": "python3"
  },
  "language_info": {
   "codemirror_mode": {
    "name": "ipython",
    "version": 3
   },
   "file_extension": ".py",
   "mimetype": "text/x-python",
   "name": "python",
   "nbconvert_exporter": "python",
   "pygments_lexer": "ipython3",
   "version": "3.8.3"
  }
 },
 "nbformat": 4,
 "nbformat_minor": 4
}
