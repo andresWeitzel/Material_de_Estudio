{
 "cells": [
  {
   "cell_type": "code",
   "execution_count": 23,
   "metadata": {},
   "outputs": [
    {
     "name": "stdout",
     "output_type": "stream",
     "text": [
      "1: Miguel $100\n",
      "2: Javier $200\n",
      "3: Carlos $4000\n",
      "4: Miguelina $8000\n"
     ]
    }
   ],
   "source": [
    "\n",
    "with open(\"C:/Users/andre/OneDrive/Escritorio/archivo.txt\") as archivo:\n",
    "    \n",
    "    i=1\n",
    "    \n",
    "    for lineaPorLinea in archivo:\n",
    "        \n",
    "        lineaPorLinea=lineaPorLinea.rstrip(\"\\n\")\n",
    "        \n",
    "        print(\"{}: {}\".format(i,lineaPorLinea))\n",
    "        \n",
    "        i+=1\n",
    "        \n",
    "        "
   ]
  },
  {
   "cell_type": "code",
   "execution_count": 25,
   "metadata": {},
   "outputs": [
    {
     "name": "stdout",
     "output_type": "stream",
     "text": [
      "1: Miguel $100\n",
      "2: Javier $200\n",
      "3: Carlos $4000\n",
      "4: Miguelina $8000\n"
     ]
    }
   ],
   "source": [
    "\n",
    "with open(\"C:/Users/andre/OneDrive/Escritorio/archivo.txt\",'r') as archivo:\n",
    "    \n",
    "  \n",
    "    for i,lineaPorLinea in enumerate(archivo, start=1):\n",
    "        \n",
    "        lineaPorLinea=lineaPorLinea.rstrip(\"\\n\")\n",
    "        \n",
    "        print(\"{}: {}\".format(i,lineaPorLinea))\n",
    "       \n",
    "        "
   ]
  },
  {
   "cell_type": "code",
   "execution_count": null,
   "metadata": {},
   "outputs": [],
   "source": []
  }
 ],
 "metadata": {
  "kernelspec": {
   "display_name": "Python 3",
   "language": "python",
   "name": "python3"
  },
  "language_info": {
   "codemirror_mode": {
    "name": "ipython",
    "version": 3
   },
   "file_extension": ".py",
   "mimetype": "text/x-python",
   "name": "python",
   "nbconvert_exporter": "python",
   "pygments_lexer": "ipython3",
   "version": "3.8.3"
  }
 },
 "nbformat": 4,
 "nbformat_minor": 4
}
