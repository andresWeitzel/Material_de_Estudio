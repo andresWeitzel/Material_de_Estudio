{
 "cells": [
  {
   "cell_type": "code",
   "execution_count": 7,
   "metadata": {},
   "outputs": [
    {
     "name": "stdout",
     "output_type": "stream",
     "text": [
      "1: asda $34\n",
      "1: asda USD 34\n",
      "2: sdfs $45\n",
      "2: sdfs USD 45\n",
      "3: sdfsf $565\n",
      "3: sdfsf USD 565\n",
      "4: \n",
      "4: \n",
      "5: \n",
      "5: \n",
      "6: \n",
      "6: \n",
      "7: \n",
      "7: \n"
     ]
    }
   ],
   "source": [
    "with open(\"C:/Users/andre/OneDrive/Escritorio/archivo.txt\",'r+') as archivo:\n",
    "    \n",
    "    nuevaLista=[]\n",
    "    \n",
    "    for i,lineaPorLinea in enumerate(archivo, start=1):\n",
    "        \n",
    "        lineaPorLinea=lineaPorLinea.rstrip(\"\\n\")\n",
    "        \n",
    "        print(\"{}: {}\".format(i,lineaPorLinea))\n",
    "            \n",
    "            \n",
    "        \n",
    "        lineaPorLinea=lineaPorLinea.replace(\"$\",\"USD \")\n",
    "        \n",
    "        nuevaLista.append(lineaPorLinea + \"\\n\")\n",
    "        \n",
    "        print(\"{}: {}\".format(i,lineaPorLinea))\n",
    "\n",
    "        \n",
    "    archivo.writelines(nuevaLista)  "
   ]
  },
  {
   "cell_type": "code",
   "execution_count": null,
   "metadata": {},
   "outputs": [],
   "source": []
  },
  {
   "cell_type": "code",
   "execution_count": null,
   "metadata": {},
   "outputs": [],
   "source": []
  }
 ],
 "metadata": {
  "kernelspec": {
   "display_name": "Python 3",
   "language": "python",
   "name": "python3"
  },
  "language_info": {
   "codemirror_mode": {
    "name": "ipython",
    "version": 3
   },
   "file_extension": ".py",
   "mimetype": "text/x-python",
   "name": "python",
   "nbconvert_exporter": "python",
   "pygments_lexer": "ipython3",
   "version": "3.8.3"
  }
 },
 "nbformat": 4,
 "nbformat_minor": 4
}
