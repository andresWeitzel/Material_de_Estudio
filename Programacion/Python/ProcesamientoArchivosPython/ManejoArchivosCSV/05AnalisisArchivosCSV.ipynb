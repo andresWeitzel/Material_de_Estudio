{
 "cells": [
  {
   "cell_type": "code",
   "execution_count": 3,
   "metadata": {},
   "outputs": [
    {
     "name": "stdout",
     "output_type": "stream",
     "text": [
      "<class 'pandas.core.frame.DataFrame'>\n",
      "RangeIndex: 6 entries, 0 to 5\n",
      "Data columns (total 7 columns):\n",
      " #   Column               Non-Null Count  Dtype  \n",
      "---  ------               --------------  -----  \n",
      " 0   N° Empleado          6 non-null      int32  \n",
      " 1   Nombre               6 non-null      string \n",
      " 2   Apellido/s           6 non-null      string \n",
      " 3   Fecha De Nacimiento  6 non-null      string \n",
      " 4   Pais De Nacimiento   6 non-null      string \n",
      " 5   Código De Contrato   6 non-null      float64\n",
      " 6   Sueldo               6 non-null      float64\n",
      "dtypes: float64(2), int32(1), string(4)\n",
      "memory usage: 440.0 bytes\n"
     ]
    }
   ],
   "source": [
    "\n",
    "import pandas as pd\n",
    "import numpy as np\n",
    "\n",
    "pathArchivoCSV='C:/Users/andre/ProcesamientoArchivosPython/ArchivosCSV/Empleados_Backup.csv'\n",
    "\n",
    "dataFrame=pd.read_csv(pathArchivoCSV, encoding='latin-1', sep=\";\")\n",
    "\n",
    "dataFrame=dataFrame.astype({'N° Empleado': 'int','Nombre': 'string', 'Apellido/s':'string', 'Fecha De Nacimiento':'string', 'Pais De Nacimiento':'string', 'Código De Contrato':'float64','Sueldo': 'float64'})\n",
    "\n",
    "dataFrame.info()\n"
   ]
  },
  {
   "cell_type": "code",
   "execution_count": 4,
   "metadata": {},
   "outputs": [
    {
     "data": {
      "text/html": [
       "<div>\n",
       "<style scoped>\n",
       "    .dataframe tbody tr th:only-of-type {\n",
       "        vertical-align: middle;\n",
       "    }\n",
       "\n",
       "    .dataframe tbody tr th {\n",
       "        vertical-align: top;\n",
       "    }\n",
       "\n",
       "    .dataframe thead th {\n",
       "        text-align: right;\n",
       "    }\n",
       "</style>\n",
       "<table border=\"1\" class=\"dataframe\">\n",
       "  <thead>\n",
       "    <tr style=\"text-align: right;\">\n",
       "      <th></th>\n",
       "      <th>N° Empleado</th>\n",
       "      <th>Código De Contrato</th>\n",
       "      <th>Sueldo</th>\n",
       "    </tr>\n",
       "  </thead>\n",
       "  <tbody>\n",
       "    <tr>\n",
       "      <th>count</th>\n",
       "      <td>6.000000</td>\n",
       "      <td>6.000000</td>\n",
       "      <td>6.000000</td>\n",
       "    </tr>\n",
       "    <tr>\n",
       "      <th>mean</th>\n",
       "      <td>5491.500000</td>\n",
       "      <td>978.500000</td>\n",
       "      <td>46.500000</td>\n",
       "    </tr>\n",
       "    <tr>\n",
       "      <th>std</th>\n",
       "      <td>1.870829</td>\n",
       "      <td>1.870829</td>\n",
       "      <td>7.556454</td>\n",
       "    </tr>\n",
       "    <tr>\n",
       "      <th>min</th>\n",
       "      <td>5489.000000</td>\n",
       "      <td>976.000000</td>\n",
       "      <td>34.000000</td>\n",
       "    </tr>\n",
       "    <tr>\n",
       "      <th>25%</th>\n",
       "      <td>5490.250000</td>\n",
       "      <td>977.250000</td>\n",
       "      <td>43.500000</td>\n",
       "    </tr>\n",
       "    <tr>\n",
       "      <th>50%</th>\n",
       "      <td>5491.500000</td>\n",
       "      <td>978.500000</td>\n",
       "      <td>47.500000</td>\n",
       "    </tr>\n",
       "    <tr>\n",
       "      <th>75%</th>\n",
       "      <td>5492.750000</td>\n",
       "      <td>979.750000</td>\n",
       "      <td>51.500000</td>\n",
       "    </tr>\n",
       "    <tr>\n",
       "      <th>max</th>\n",
       "      <td>5494.000000</td>\n",
       "      <td>981.000000</td>\n",
       "      <td>55.000000</td>\n",
       "    </tr>\n",
       "  </tbody>\n",
       "</table>\n",
       "</div>"
      ],
      "text/plain": [
       "       N° Empleado  Código De Contrato     Sueldo\n",
       "count     6.000000            6.000000   6.000000\n",
       "mean   5491.500000          978.500000  46.500000\n",
       "std       1.870829            1.870829   7.556454\n",
       "min    5489.000000          976.000000  34.000000\n",
       "25%    5490.250000          977.250000  43.500000\n",
       "50%    5491.500000          978.500000  47.500000\n",
       "75%    5492.750000          979.750000  51.500000\n",
       "max    5494.000000          981.000000  55.000000"
      ]
     },
     "execution_count": 4,
     "metadata": {},
     "output_type": "execute_result"
    }
   ],
   "source": [
    "'''\n",
    "El Metodo describe lo implementamos para ver de forma sencilla algunas medidas de nuestros datos.\n",
    "Los % que se muestren se analizan con variables contables, por eso que se nos generan solo 3 columnas\n",
    "e este caso.\n",
    "También es un ejemplo de como podemos seleccionar ciertas columnas por su indice mediante el uso\n",
    "de la librería numpy.\n",
    "'''\n",
    "dataFrame.describe()"
   ]
  },
  {
   "cell_type": "code",
   "execution_count": null,
   "metadata": {},
   "outputs": [],
   "source": []
  },
  {
   "cell_type": "code",
   "execution_count": 10,
   "metadata": {},
   "outputs": [
    {
     "data": {
      "text/html": [
       "<div>\n",
       "<style scoped>\n",
       "    .dataframe tbody tr th:only-of-type {\n",
       "        vertical-align: middle;\n",
       "    }\n",
       "\n",
       "    .dataframe tbody tr th {\n",
       "        vertical-align: top;\n",
       "    }\n",
       "\n",
       "    .dataframe thead th {\n",
       "        text-align: right;\n",
       "    }\n",
       "</style>\n",
       "<table border=\"1\" class=\"dataframe\">\n",
       "  <thead>\n",
       "    <tr style=\"text-align: right;\">\n",
       "      <th></th>\n",
       "      <th>Sueldo</th>\n",
       "    </tr>\n",
       "  </thead>\n",
       "  <tbody>\n",
       "    <tr>\n",
       "      <th>0</th>\n",
       "      <td>34.0</td>\n",
       "    </tr>\n",
       "    <tr>\n",
       "      <th>2</th>\n",
       "      <td>45.0</td>\n",
       "    </tr>\n",
       "    <tr>\n",
       "      <th>5</th>\n",
       "      <td>50.0</td>\n",
       "    </tr>\n",
       "  </tbody>\n",
       "</table>\n",
       "</div>"
      ],
      "text/plain": [
       "   Sueldo\n",
       "0    34.0\n",
       "2    45.0\n",
       "5    50.0"
      ]
     },
     "execution_count": 10,
     "metadata": {},
     "output_type": "execute_result"
    }
   ],
   "source": [
    "'''\n",
    "Podemos Generar una muestra de 3 Registros pasandole el nombre de la columnna/campo deseado \n",
    "dentro de regex, se pueden usar expresiones regulares para tomar equis muestras para equis columnas\n",
    "en relacion a la expresion('Su*')\n",
    "'''\n",
    "dataFrame.filter(regex='Sueldo', axis=1).sample(3)"
   ]
  },
  {
   "cell_type": "code",
   "execution_count": 17,
   "metadata": {},
   "outputs": [
    {
     "data": {
      "text/plain": [
       "'\\nGeneramos la media de cada campo contable en relacion a un grupo(en este caso hay poca info,\\nno vamos a tener nada analizable, pero suponte tener varios empleados con  varios sueldos iguales..)\\n'"
      ]
     },
     "execution_count": 17,
     "metadata": {},
     "output_type": "execute_result"
    }
   ],
   "source": [
    "'''\n",
    "Generamos la media de cada campo contable en relacion a un grupo(en este caso hay poca info,\n",
    "no vamos a tener nada analizable, pero suponte tener varios empleados con  varios sueldos iguales..)\n",
    "'''\n",
    "#dataFrame.groupby('condicion de agrupamiento').mean()"
   ]
  },
  {
   "cell_type": "code",
   "execution_count": null,
   "metadata": {},
   "outputs": [],
   "source": []
  },
  {
   "cell_type": "code",
   "execution_count": 20,
   "metadata": {},
   "outputs": [
    {
     "data": {
      "text/html": [
       "<div>\n",
       "<style scoped>\n",
       "    .dataframe tbody tr th:only-of-type {\n",
       "        vertical-align: middle;\n",
       "    }\n",
       "\n",
       "    .dataframe tbody tr th {\n",
       "        vertical-align: top;\n",
       "    }\n",
       "\n",
       "    .dataframe thead th {\n",
       "        text-align: right;\n",
       "    }\n",
       "</style>\n",
       "<table border=\"1\" class=\"dataframe\">\n",
       "  <thead>\n",
       "    <tr style=\"text-align: right;\">\n",
       "      <th></th>\n",
       "      <th>N° Empleado</th>\n",
       "      <th>Nombre</th>\n",
       "      <th>Sueldo</th>\n",
       "    </tr>\n",
       "  </thead>\n",
       "  <tbody>\n",
       "    <tr>\n",
       "      <th>4</th>\n",
       "      <td>5493</td>\n",
       "      <td>Andres</td>\n",
       "      <td>55.0</td>\n",
       "    </tr>\n",
       "    <tr>\n",
       "      <th>3</th>\n",
       "      <td>5492</td>\n",
       "      <td>Martina</td>\n",
       "      <td>52.0</td>\n",
       "    </tr>\n",
       "    <tr>\n",
       "      <th>5</th>\n",
       "      <td>5494</td>\n",
       "      <td>Romina</td>\n",
       "      <td>50.0</td>\n",
       "    </tr>\n",
       "  </tbody>\n",
       "</table>\n",
       "</div>"
      ],
      "text/plain": [
       "   N° Empleado   Nombre  Sueldo\n",
       "4         5493   Andres    55.0\n",
       "3         5492  Martina    52.0\n",
       "5         5494   Romina    50.0"
      ]
     },
     "execution_count": 20,
     "metadata": {},
     "output_type": "execute_result"
    }
   ],
   "source": [
    "'''\n",
    "Ordenamiento segun los 3 primeros sueldos más altos\n",
    "'''\n",
    "dataFrame.sort_values(by='Sueldo',ascending=False)[['N° Empleado','Nombre','Sueldo']].head(3)"
   ]
  },
  {
   "cell_type": "code",
   "execution_count": 21,
   "metadata": {},
   "outputs": [
    {
     "data": {
      "text/html": [
       "<div>\n",
       "<style scoped>\n",
       "    .dataframe tbody tr th:only-of-type {\n",
       "        vertical-align: middle;\n",
       "    }\n",
       "\n",
       "    .dataframe tbody tr th {\n",
       "        vertical-align: top;\n",
       "    }\n",
       "\n",
       "    .dataframe thead th {\n",
       "        text-align: right;\n",
       "    }\n",
       "</style>\n",
       "<table border=\"1\" class=\"dataframe\">\n",
       "  <thead>\n",
       "    <tr style=\"text-align: right;\">\n",
       "      <th></th>\n",
       "      <th>N° Empleado</th>\n",
       "      <th>Nombre</th>\n",
       "      <th>Sueldo</th>\n",
       "    </tr>\n",
       "  </thead>\n",
       "  <tbody>\n",
       "    <tr>\n",
       "      <th>0</th>\n",
       "      <td>5489</td>\n",
       "      <td>Juan</td>\n",
       "      <td>34.0</td>\n",
       "    </tr>\n",
       "    <tr>\n",
       "      <th>1</th>\n",
       "      <td>5490</td>\n",
       "      <td>Marcela</td>\n",
       "      <td>43.0</td>\n",
       "    </tr>\n",
       "    <tr>\n",
       "      <th>2</th>\n",
       "      <td>5491</td>\n",
       "      <td>Alberto</td>\n",
       "      <td>45.0</td>\n",
       "    </tr>\n",
       "  </tbody>\n",
       "</table>\n",
       "</div>"
      ],
      "text/plain": [
       "   N° Empleado   Nombre  Sueldo\n",
       "0         5489    Juan     34.0\n",
       "1         5490  Marcela    43.0\n",
       "2         5491  Alberto    45.0"
      ]
     },
     "execution_count": 21,
     "metadata": {},
     "output_type": "execute_result"
    }
   ],
   "source": [
    "'''\n",
    "Ordenamiento segun los 3 primeros sueldos más bajos\n",
    "'''\n",
    "dataFrame.sort_values(by='Sueldo',ascending=True)[['N° Empleado','Nombre','Sueldo']].head(3)"
   ]
  },
  {
   "cell_type": "code",
   "execution_count": 22,
   "metadata": {},
   "outputs": [
    {
     "data": {
      "text/plain": [
       "'\\nY así sucesivamente, estadisticamente hablando hay infinidad de posibles analisis.\\n\\nPagina Recomendada:\\nhttps://darecode.com/blog/analisis-de-datos-libreria-pandas-python/\\n\\n\\n'"
      ]
     },
     "execution_count": 22,
     "metadata": {},
     "output_type": "execute_result"
    }
   ],
   "source": [
    "'''\n",
    "Y así sucesivamente, estadisticamente hablando hay infinidad de posibles analisis.\n",
    "\n",
    "Pagina Recomendada:\n",
    "https://darecode.com/blog/analisis-de-datos-libreria-pandas-python/\n",
    "\n",
    "\n",
    "'''"
   ]
  },
  {
   "cell_type": "code",
   "execution_count": null,
   "metadata": {},
   "outputs": [],
   "source": []
  }
 ],
 "metadata": {
  "kernelspec": {
   "display_name": "Python 3",
   "language": "python",
   "name": "python3"
  },
  "language_info": {
   "codemirror_mode": {
    "name": "ipython",
    "version": 3
   },
   "file_extension": ".py",
   "mimetype": "text/x-python",
   "name": "python",
   "nbconvert_exporter": "python",
   "pygments_lexer": "ipython3",
   "version": "3.8.3"
  }
 },
 "nbformat": 4,
 "nbformat_minor": 4
}
