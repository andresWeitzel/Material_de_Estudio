{
 "cells": [
  {
   "cell_type": "code",
   "execution_count": 2,
   "metadata": {},
   "outputs": [],
   "source": [
    "import csv"
   ]
  },
  {
   "cell_type": "code",
   "execution_count": 3,
   "metadata": {},
   "outputs": [
    {
     "name": "stdout",
     "output_type": "stream",
     "text": [
      "{'N° Empleado': '5489', 'Nombre': 'Juan', 'Apellido/s': 'Perez', 'Fecha de Nacimiento': '10/12/1994', 'Pais de Nacimiento': 'Argentina', 'Código de Contrato': '976', 'Sueldo': '34.000'}\n",
      "{'N° Empleado': '5490', 'Nombre': 'Jimena', 'Apellido/s': 'Rodriguez', 'Fecha de Nacimiento': '21/2/1993', 'Pais de Nacimiento': 'Brasil', 'Código de Contrato': '977', 'Sueldo': '43.000'}\n",
      "{'N° Empleado': '5491', 'Nombre': 'Alberto', 'Apellido/s': 'Escaloni', 'Fecha de Nacimiento': '11/3/1884', 'Pais de Nacimiento': 'Argentina', 'Código de Contrato': '978', 'Sueldo': '45.000'}\n",
      "{'N° Empleado': '5492', 'Nombre': 'Martina', 'Apellido/s': 'Gutierrez', 'Fecha de Nacimiento': '3/4/1990', 'Pais de Nacimiento': 'Uruguay', 'Código de Contrato': '979', 'Sueldo': '52.000'}\n"
     ]
    }
   ],
   "source": [
    "pathArchivoCSV='C:/Users/andre/ProcesamientoArchivosPython/ArchivosCSV/Empleados.csv'\n",
    "\n",
    "#newline lectura linea a linea\n",
    "with open(pathArchivoCSV, newline=\"\") as archivo01:\n",
    "    \n",
    "    '''\n",
    "     Con el Delimiter definimos la estructura de nuestro archivo, separado por comas,\n",
    "     NUESTRO ARCHIVO ESTA SEPARADO POR ';' AL PASARLE ESO AL DELIMITER NOS CONVIERTE\n",
    "     TODO A COMAS. Si tenemos otro archivo separado por comas, le pasamos la coma en vez\n",
    "     de  ';' , eso porque no lo guardamos en utf-8\n",
    "     '''\n",
    "    #csv.DictReader para diccionarios, csv.reader para listas\n",
    "    lecturaDeCampos=csv.DictReader(archivo01, delimiter=\";\")\n",
    "    \n",
    "    for RecorridoDeFila in lecturaDeCampos:\n",
    "        \n",
    "        print(RecorridoDeFila)\n",
    "    \n",
    "    \n"
   ]
  },
  {
   "cell_type": "code",
   "execution_count": null,
   "metadata": {},
   "outputs": [],
   "source": []
  },
  {
   "cell_type": "code",
   "execution_count": 7,
   "metadata": {},
   "outputs": [
    {
     "name": "stdout",
     "output_type": "stream",
     "text": [
      "  N° Empleado;Nombre;Apellido/s;Fecha de Nacimiento;Pais de Nacimiento;Código de Contrato;Sueldo\n",
      "0    5489;Juan;Perez;10/12/1994;Argentina;976;34.000                                            \n",
      "1  5490;Jimena;Rodriguez;21/2/1993;Brasil;977;43.000                                            \n",
      "2  5491;Alberto;Escaloni;11/3/1884;Argentina;978;...                                            \n",
      "3  5492;Martina;Gutierrez;3/4/1990;Uruguay;979;52...                                            \n"
     ]
    }
   ],
   "source": [
    "'''\n",
    "Podemos realizar la lectura de un archivo csv con Pandas(Libreria\n",
    "para la manipulacion de archivos de forma mas eficiente y con mayor\n",
    "visualizacion)\n",
    "\n",
    "'''\n",
    "import pandas as pd\n",
    "\n",
    "dataFrame=pd.read_csv(pathArchivoCSV, encoding='latin-1')\n",
    "\n",
    "print(dataFrame)\n"
   ]
  },
  {
   "cell_type": "code",
   "execution_count": 8,
   "metadata": {},
   "outputs": [
    {
     "data": {
      "text/html": [
       "<div>\n",
       "<style scoped>\n",
       "    .dataframe tbody tr th:only-of-type {\n",
       "        vertical-align: middle;\n",
       "    }\n",
       "\n",
       "    .dataframe tbody tr th {\n",
       "        vertical-align: top;\n",
       "    }\n",
       "\n",
       "    .dataframe thead th {\n",
       "        text-align: right;\n",
       "    }\n",
       "</style>\n",
       "<table border=\"1\" class=\"dataframe\">\n",
       "  <thead>\n",
       "    <tr style=\"text-align: right;\">\n",
       "      <th></th>\n",
       "      <th>N° Empleado;Nombre;Apellido/s;Fecha de Nacimiento;Pais de Nacimiento;Código de Contrato;Sueldo</th>\n",
       "    </tr>\n",
       "  </thead>\n",
       "  <tbody>\n",
       "    <tr>\n",
       "      <th>0</th>\n",
       "      <td>5489;Juan;Perez;10/12/1994;Argentina;976;34.000</td>\n",
       "    </tr>\n",
       "    <tr>\n",
       "      <th>1</th>\n",
       "      <td>5490;Jimena;Rodriguez;21/2/1993;Brasil;977;43.000</td>\n",
       "    </tr>\n",
       "    <tr>\n",
       "      <th>2</th>\n",
       "      <td>5491;Alberto;Escaloni;11/3/1884;Argentina;978;...</td>\n",
       "    </tr>\n",
       "    <tr>\n",
       "      <th>3</th>\n",
       "      <td>5492;Martina;Gutierrez;3/4/1990;Uruguay;979;52...</td>\n",
       "    </tr>\n",
       "  </tbody>\n",
       "</table>\n",
       "</div>"
      ],
      "text/plain": [
       "  N° Empleado;Nombre;Apellido/s;Fecha de Nacimiento;Pais de Nacimiento;Código de Contrato;Sueldo\n",
       "0    5489;Juan;Perez;10/12/1994;Argentina;976;34.000                                            \n",
       "1  5490;Jimena;Rodriguez;21/2/1993;Brasil;977;43.000                                            \n",
       "2  5491;Alberto;Escaloni;11/3/1884;Argentina;978;...                                            \n",
       "3  5492;Martina;Gutierrez;3/4/1990;Uruguay;979;52...                                            "
      ]
     },
     "metadata": {},
     "output_type": "display_data"
    }
   ],
   "source": [
    "display(dataFrame)"
   ]
  },
  {
   "cell_type": "code",
   "execution_count": 9,
   "metadata": {},
   "outputs": [
    {
     "data": {
      "text/html": [
       "<div>\n",
       "<style scoped>\n",
       "    .dataframe tbody tr th:only-of-type {\n",
       "        vertical-align: middle;\n",
       "    }\n",
       "\n",
       "    .dataframe tbody tr th {\n",
       "        vertical-align: top;\n",
       "    }\n",
       "\n",
       "    .dataframe thead th {\n",
       "        text-align: right;\n",
       "    }\n",
       "</style>\n",
       "<table border=\"1\" class=\"dataframe\">\n",
       "  <thead>\n",
       "    <tr style=\"text-align: right;\">\n",
       "      <th></th>\n",
       "      <th>N° Empleado</th>\n",
       "      <th>Nombre</th>\n",
       "      <th>Apellido/s</th>\n",
       "      <th>Fecha de Nacimiento</th>\n",
       "      <th>Pais de Nacimiento</th>\n",
       "      <th>Código de Contrato</th>\n",
       "      <th>Sueldo</th>\n",
       "    </tr>\n",
       "  </thead>\n",
       "  <tbody>\n",
       "    <tr>\n",
       "      <th>0</th>\n",
       "      <td>5489</td>\n",
       "      <td>Juan</td>\n",
       "      <td>Perez</td>\n",
       "      <td>10/12/1994</td>\n",
       "      <td>Argentina</td>\n",
       "      <td>976</td>\n",
       "      <td>34.0</td>\n",
       "    </tr>\n",
       "    <tr>\n",
       "      <th>1</th>\n",
       "      <td>5490</td>\n",
       "      <td>Jimena</td>\n",
       "      <td>Rodriguez</td>\n",
       "      <td>21/2/1993</td>\n",
       "      <td>Brasil</td>\n",
       "      <td>977</td>\n",
       "      <td>43.0</td>\n",
       "    </tr>\n",
       "    <tr>\n",
       "      <th>2</th>\n",
       "      <td>5491</td>\n",
       "      <td>Alberto</td>\n",
       "      <td>Escaloni</td>\n",
       "      <td>11/3/1884</td>\n",
       "      <td>Argentina</td>\n",
       "      <td>978</td>\n",
       "      <td>45.0</td>\n",
       "    </tr>\n",
       "    <tr>\n",
       "      <th>3</th>\n",
       "      <td>5492</td>\n",
       "      <td>Martina</td>\n",
       "      <td>Gutierrez</td>\n",
       "      <td>3/4/1990</td>\n",
       "      <td>Uruguay</td>\n",
       "      <td>979</td>\n",
       "      <td>52.0</td>\n",
       "    </tr>\n",
       "  </tbody>\n",
       "</table>\n",
       "</div>"
      ],
      "text/plain": [
       "   N° Empleado   Nombre Apellido/s Fecha de Nacimiento Pais de Nacimiento  \\\n",
       "0         5489     Juan      Perez          10/12/1994          Argentina   \n",
       "1         5490   Jimena  Rodriguez           21/2/1993             Brasil   \n",
       "2         5491  Alberto   Escaloni           11/3/1884          Argentina   \n",
       "3         5492  Martina  Gutierrez            3/4/1990            Uruguay   \n",
       "\n",
       "   Código de Contrato  Sueldo  \n",
       "0                 976    34.0  \n",
       "1                 977    43.0  \n",
       "2                 978    45.0  \n",
       "3                 979    52.0  "
      ]
     },
     "metadata": {},
     "output_type": "display_data"
    }
   ],
   "source": [
    "dataFrame=pd.read_csv(pathArchivoCSV, encoding='latin-1', sep=\";\")\n",
    "\n",
    "display(dataFrame)"
   ]
  },
  {
   "cell_type": "code",
   "execution_count": null,
   "metadata": {},
   "outputs": [],
   "source": []
  }
 ],
 "metadata": {
  "kernelspec": {
   "display_name": "Python 3",
   "language": "python",
   "name": "python3"
  },
  "language_info": {
   "codemirror_mode": {
    "name": "ipython",
    "version": 3
   },
   "file_extension": ".py",
   "mimetype": "text/x-python",
   "name": "python",
   "nbconvert_exporter": "python",
   "pygments_lexer": "ipython3",
   "version": "3.8.3"
  }
 },
 "nbformat": 4,
 "nbformat_minor": 4
}
