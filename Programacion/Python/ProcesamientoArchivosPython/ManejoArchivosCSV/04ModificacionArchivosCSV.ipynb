{
 "cells": [
  {
   "cell_type": "code",
   "execution_count": 1,
   "metadata": {},
   "outputs": [],
   "source": [
    "import csv"
   ]
  },
  {
   "cell_type": "code",
   "execution_count": 10,
   "metadata": {},
   "outputs": [
    {
     "name": "stdout",
     "output_type": "stream",
     "text": [
      "{'N° Empleado': '5489', 'Nombre': 'Juan ', 'Apellido/s': 'Perez', 'Fecha De Nacimiento': '10/12/1994', 'Pais De Nacimiento': 'Argentina', 'Código De Contrato': '976', 'Sueldo': '34.000'}\n",
      "{'N° Empleado': '5490', 'Nombre': 'Marcela', 'Apellido/s': 'Biriba', 'Fecha De Nacimiento': '21/2/1993', 'Pais De Nacimiento': 'Brasil', 'Código De Contrato': '977', 'Sueldo': '43.000'}\n",
      "{'N° Empleado': '5491', 'Nombre': 'Alberto', 'Apellido/s': 'Escaloni', 'Fecha De Nacimiento': '11/3/1994', 'Pais De Nacimiento': 'Argentina', 'Código De Contrato': '978', 'Sueldo': '45.000'}\n",
      "{'N° Empleado': '5492', 'Nombre': 'Martina', 'Apellido/s': 'Gutierrez', 'Fecha De Nacimiento': '3/4/1990', 'Pais De Nacimiento': 'Uruguay', 'Código De Contrato': '979', 'Sueldo': '52.000'}\n"
     ]
    }
   ],
   "source": [
    "pathArchivoCSV='C:/Users/andre/ProcesamientoArchivosPython/ArchivosCSV/Empleados_Backup.csv'\n",
    "\n",
    "\n",
    "with open(pathArchivoCSV, newline=\"\" ) as archivo01:\n",
    "    \n",
    "    lecturaDeCampos=csv.DictReader(archivo01, delimiter=\";\" )\n",
    "    \n",
    "    for RecorridoDeFila in lecturaDeCampos:\n",
    "        \n",
    "        print(RecorridoDeFila)\n"
   ]
  },
  {
   "cell_type": "code",
   "execution_count": null,
   "metadata": {},
   "outputs": [],
   "source": []
  },
  {
   "cell_type": "code",
   "execution_count": 11,
   "metadata": {},
   "outputs": [
    {
     "data": {
      "text/plain": [
       "\"\\nwith open(pathArchivoCSV,'a',newline='') as archivo01:\\n    \\n    campos=['N° Empleado','Nombre','Apellido','Fecha De Nacimiento','Pais de Nacimiento','Código De Contrato','Sueldo']\\n    \\n    registro01={'N° Empleado': 5499 , 'Nombre': 'Gaston' , 'Apellido':'Damasco' , 'Fecha De Nacimiento':'4/8/2000' , 'Pais de Nacimiento':'Argentina' , 'Código De Contrato':982 , 'Sueldo':33.000}\\n    \\n    nuevoRegistro= csv.DictWriter(archivo01,fieldnames=campos)\\n    \\n    nuevoRegistro.writerow(registro01)\\n\""
      ]
     },
     "execution_count": 11,
     "metadata": {},
     "output_type": "execute_result"
    }
   ],
   "source": [
    "'''\n",
    "POR ALGUNA RAZON EL REGISTRO NO SE ESTA GUARDANDO CORRECTAMENTE EN SUS CAMPOS, DESCONOZCO EL PROBLEMA\n",
    "YA QUE YO UTILIZO PANDAS, NOS ABSTRAEMOS DE ESTOS PROBLEMAS, BUSCAR LA SOLUCION Y AGREGARLO EN LOS\n",
    "COMENTARIOS.\n",
    "'''\n",
    "'''\n",
    "with open(pathArchivoCSV,'a',newline='') as archivo01:\n",
    "    \n",
    "    campos=['N° Empleado','Nombre','Apellido','Fecha De Nacimiento','Pais de Nacimiento','Código De Contrato','Sueldo']\n",
    "    \n",
    "    registro01={'N° Empleado': 5499 , 'Nombre': 'Gaston' , 'Apellido':'Damasco' , 'Fecha De Nacimiento':'4/8/2000' , 'Pais de Nacimiento':'Argentina' , 'Código De Contrato':982 , 'Sueldo':33.000}\n",
    "    \n",
    "    nuevoRegistro= csv.DictWriter(archivo01,fieldnames=campos)\n",
    "    \n",
    "    nuevoRegistro.writerow(registro01)\n",
    "'''    "
   ]
  },
  {
   "cell_type": "code",
   "execution_count": 22,
   "metadata": {
    "scrolled": true
   },
   "outputs": [
    {
     "name": "stdout",
     "output_type": "stream",
     "text": [
      "<class 'pandas.core.frame.DataFrame'>\n",
      "RangeIndex: 6 entries, 0 to 5\n",
      "Data columns (total 7 columns):\n",
      " #   Column               Non-Null Count  Dtype  \n",
      "---  ------               --------------  -----  \n",
      " 0   N° Empleado          6 non-null      int64  \n",
      " 1   Nombre               6 non-null      object \n",
      " 2   Apellido/s           6 non-null      object \n",
      " 3   Fecha De Nacimiento  6 non-null      object \n",
      " 4   Pais De Nacimiento   6 non-null      object \n",
      " 5   Código De Contrato   6 non-null      int64  \n",
      " 6   Sueldo               6 non-null      float64\n",
      "dtypes: float64(1), int64(2), object(4)\n",
      "memory usage: 464.0+ bytes\n"
     ]
    }
   ],
   "source": [
    "import os\n",
    "import pandas as pd\n",
    "import numpy as np\n",
    "\n",
    "dataFrame=pd.read_csv(pathArchivoCSV, encoding='latin-1', sep=\";\")\n",
    "\n",
    "dataFrame.info()\n",
    "\n"
   ]
  },
  {
   "cell_type": "code",
   "execution_count": 16,
   "metadata": {},
   "outputs": [
    {
     "name": "stdout",
     "output_type": "stream",
     "text": [
      "<class 'pandas.core.frame.DataFrame'>\n",
      "RangeIndex: 4 entries, 0 to 3\n",
      "Data columns (total 7 columns):\n",
      " #   Column               Non-Null Count  Dtype  \n",
      "---  ------               --------------  -----  \n",
      " 0   N° Empleado          4 non-null      int32  \n",
      " 1   Nombre               4 non-null      string \n",
      " 2   Apellido/s           4 non-null      string \n",
      " 3   Fecha De Nacimiento  4 non-null      string \n",
      " 4   Pais De Nacimiento   4 non-null      string \n",
      " 5   Código De Contrato   4 non-null      float64\n",
      " 6   Sueldo               4 non-null      float64\n",
      "dtypes: float64(2), int32(1), string(4)\n",
      "memory usage: 336.0 bytes\n"
     ]
    }
   ],
   "source": [
    "'''\n",
    "Podemos observar que hay columnas con tipo «object» cuando debería ser un float u otro tipo \n",
    "(por ejemplo: Apellido/s, fecha de Nacimiento, etc ).\n",
    "Esto es porque hay filas que no tienen valor para esas columnas, luego veremos que hacer con ellas,\n",
    "por ahora vamos a poner los tipos adecuados a cada columna .\n",
    "'''\n",
    "\n",
    "dataFrame=dataFrame.astype({'N° Empleado': 'int','Nombre': 'string', 'Apellido/s':'string', 'Fecha De Nacimiento':'string', 'Pais De Nacimiento':'string', 'Código De Contrato':'float64','Sueldo': 'float64'})\n",
    "\n",
    "dataFrame.info()"
   ]
  },
  {
   "cell_type": "code",
   "execution_count": null,
   "metadata": {},
   "outputs": [],
   "source": [
    "'''\n",
    "Sería valido que hubiesen registros incompletos, deberiamos limpiarlos o depurarlos\n",
    "para tener todo estandarizado y que la manipulacion sea lo mayormente efectiva\n",
    "Página de Referencia que recomiendo:\n",
    "https://darecode.com/blog/analisis-de-datos-libreria-pandas-python/\n",
    "'''"
   ]
  },
  {
   "cell_type": "code",
   "execution_count": 17,
   "metadata": {},
   "outputs": [
    {
     "data": {
      "text/html": [
       "<div>\n",
       "<style scoped>\n",
       "    .dataframe tbody tr th:only-of-type {\n",
       "        vertical-align: middle;\n",
       "    }\n",
       "\n",
       "    .dataframe tbody tr th {\n",
       "        vertical-align: top;\n",
       "    }\n",
       "\n",
       "    .dataframe thead th {\n",
       "        text-align: right;\n",
       "    }\n",
       "</style>\n",
       "<table border=\"1\" class=\"dataframe\">\n",
       "  <thead>\n",
       "    <tr style=\"text-align: right;\">\n",
       "      <th></th>\n",
       "      <th>N° Empleado</th>\n",
       "      <th>Nombre</th>\n",
       "      <th>Apellido/s</th>\n",
       "      <th>Fecha De Nacimiento</th>\n",
       "      <th>Pais De Nacimiento</th>\n",
       "      <th>Código De Contrato</th>\n",
       "      <th>Sueldo</th>\n",
       "    </tr>\n",
       "  </thead>\n",
       "  <tbody>\n",
       "    <tr>\n",
       "      <th>0</th>\n",
       "      <td>5489</td>\n",
       "      <td>Juan</td>\n",
       "      <td>Perez</td>\n",
       "      <td>10/12/1994</td>\n",
       "      <td>Argentina</td>\n",
       "      <td>976.0</td>\n",
       "      <td>34.0</td>\n",
       "    </tr>\n",
       "    <tr>\n",
       "      <th>1</th>\n",
       "      <td>5490</td>\n",
       "      <td>Marcela</td>\n",
       "      <td>Biriba</td>\n",
       "      <td>21/2/1993</td>\n",
       "      <td>Brasil</td>\n",
       "      <td>977.0</td>\n",
       "      <td>43.0</td>\n",
       "    </tr>\n",
       "    <tr>\n",
       "      <th>2</th>\n",
       "      <td>5491</td>\n",
       "      <td>Alberto</td>\n",
       "      <td>Escaloni</td>\n",
       "      <td>11/3/1994</td>\n",
       "      <td>Argentina</td>\n",
       "      <td>978.0</td>\n",
       "      <td>45.0</td>\n",
       "    </tr>\n",
       "    <tr>\n",
       "      <th>3</th>\n",
       "      <td>5492</td>\n",
       "      <td>Martina</td>\n",
       "      <td>Gutierrez</td>\n",
       "      <td>3/4/1990</td>\n",
       "      <td>Uruguay</td>\n",
       "      <td>979.0</td>\n",
       "      <td>52.0</td>\n",
       "    </tr>\n",
       "  </tbody>\n",
       "</table>\n",
       "</div>"
      ],
      "text/plain": [
       "   N° Empleado   Nombre Apellido/s Fecha De Nacimiento Pais De Nacimiento  \\\n",
       "0         5489    Juan       Perez          10/12/1994          Argentina   \n",
       "1         5490  Marcela     Biriba           21/2/1993             Brasil   \n",
       "2         5491  Alberto   Escaloni           11/3/1994          Argentina   \n",
       "3         5492  Martina  Gutierrez            3/4/1990            Uruguay   \n",
       "\n",
       "   Código De Contrato  Sueldo  \n",
       "0               976.0    34.0  \n",
       "1               977.0    43.0  \n",
       "2               978.0    45.0  \n",
       "3               979.0    52.0  "
      ]
     },
     "metadata": {},
     "output_type": "display_data"
    }
   ],
   "source": [
    "display(dataFrame)"
   ]
  },
  {
   "cell_type": "code",
   "execution_count": 18,
   "metadata": {},
   "outputs": [],
   "source": [
    "'''\n",
    "Insertamos Nuevos Registros a Nuestra DB\n",
    "'''\n",
    "#Los campos de nuestra db\n",
    "campos=['N° Empleado','Nombre','Apellido/s','Fecha De Nacimiento','Pais De Nacimiento','Código De Contrato','Sueldo']\n",
    "\n",
    "#Agregamos Registros con pandas\n",
    "registros=[\n",
    "    [5493,'Andres','Weitzel','10/08/1996','Argentina',980,55.000],\n",
    "    [5494,'Romina','Gutierrez','09/04/1992','Argentina',981,50.000]\n",
    "]\n",
    "\n",
    "#Le indicamos los campos a pandas\n",
    "dataFrame=pd.DataFrame(registros,columns=campos)\n",
    "\n",
    "#Guardamos los registros en el archivo csv, importante agregar el a para que no se sobreescriban los datos\n",
    "# header=not os.path.isfile(path) IMPORTANTE PARA QUE NO AGREGUE LA CABECERA\n",
    "#index=None IMPORTANTE PARA QUE NO AGREGUE UN INDICE POR REGISTRO Y NOS CORRA UNA COLUMNA\n",
    "dataFrame.to_csv(pathArchivoCSV,index=None, mode='a', header=not os.path.isfile(pathArchivoCSV) , sep=\";\")"
   ]
  },
  {
   "cell_type": "code",
   "execution_count": 19,
   "metadata": {},
   "outputs": [
    {
     "data": {
      "text/html": [
       "<div>\n",
       "<style scoped>\n",
       "    .dataframe tbody tr th:only-of-type {\n",
       "        vertical-align: middle;\n",
       "    }\n",
       "\n",
       "    .dataframe tbody tr th {\n",
       "        vertical-align: top;\n",
       "    }\n",
       "\n",
       "    .dataframe thead th {\n",
       "        text-align: right;\n",
       "    }\n",
       "</style>\n",
       "<table border=\"1\" class=\"dataframe\">\n",
       "  <thead>\n",
       "    <tr style=\"text-align: right;\">\n",
       "      <th></th>\n",
       "      <th>N° Empleado</th>\n",
       "      <th>Nombre</th>\n",
       "      <th>Apellido/s</th>\n",
       "      <th>Fecha De Nacimiento</th>\n",
       "      <th>Pais De Nacimiento</th>\n",
       "      <th>Código De Contrato</th>\n",
       "      <th>Sueldo</th>\n",
       "    </tr>\n",
       "  </thead>\n",
       "  <tbody>\n",
       "    <tr>\n",
       "      <th>0</th>\n",
       "      <td>5489</td>\n",
       "      <td>Juan</td>\n",
       "      <td>Perez</td>\n",
       "      <td>10/12/1994</td>\n",
       "      <td>Argentina</td>\n",
       "      <td>976</td>\n",
       "      <td>34.0</td>\n",
       "    </tr>\n",
       "    <tr>\n",
       "      <th>1</th>\n",
       "      <td>5490</td>\n",
       "      <td>Marcela</td>\n",
       "      <td>Biriba</td>\n",
       "      <td>21/2/1993</td>\n",
       "      <td>Brasil</td>\n",
       "      <td>977</td>\n",
       "      <td>43.0</td>\n",
       "    </tr>\n",
       "    <tr>\n",
       "      <th>2</th>\n",
       "      <td>5491</td>\n",
       "      <td>Alberto</td>\n",
       "      <td>Escaloni</td>\n",
       "      <td>11/3/1994</td>\n",
       "      <td>Argentina</td>\n",
       "      <td>978</td>\n",
       "      <td>45.0</td>\n",
       "    </tr>\n",
       "    <tr>\n",
       "      <th>3</th>\n",
       "      <td>5492</td>\n",
       "      <td>Martina</td>\n",
       "      <td>Gutierrez</td>\n",
       "      <td>3/4/1990</td>\n",
       "      <td>Uruguay</td>\n",
       "      <td>979</td>\n",
       "      <td>52.0</td>\n",
       "    </tr>\n",
       "    <tr>\n",
       "      <th>4</th>\n",
       "      <td>5493</td>\n",
       "      <td>Andres</td>\n",
       "      <td>Weitzel</td>\n",
       "      <td>10/08/1996</td>\n",
       "      <td>Argentina</td>\n",
       "      <td>980</td>\n",
       "      <td>55.0</td>\n",
       "    </tr>\n",
       "    <tr>\n",
       "      <th>5</th>\n",
       "      <td>5494</td>\n",
       "      <td>Romina</td>\n",
       "      <td>Gutierrez</td>\n",
       "      <td>09/04/1992</td>\n",
       "      <td>Argentina</td>\n",
       "      <td>981</td>\n",
       "      <td>50.0</td>\n",
       "    </tr>\n",
       "  </tbody>\n",
       "</table>\n",
       "</div>"
      ],
      "text/plain": [
       "   N° Empleado   Nombre Apellido/s Fecha De Nacimiento Pais De Nacimiento  \\\n",
       "0         5489    Juan       Perez          10/12/1994          Argentina   \n",
       "1         5490  Marcela     Biriba           21/2/1993             Brasil   \n",
       "2         5491  Alberto   Escaloni           11/3/1994          Argentina   \n",
       "3         5492  Martina  Gutierrez            3/4/1990            Uruguay   \n",
       "4         5493   Andres    Weitzel          10/08/1996          Argentina   \n",
       "5         5494   Romina  Gutierrez          09/04/1992          Argentina   \n",
       "\n",
       "   Código De Contrato  Sueldo  \n",
       "0                 976    34.0  \n",
       "1                 977    43.0  \n",
       "2                 978    45.0  \n",
       "3                 979    52.0  \n",
       "4                 980    55.0  \n",
       "5                 981    50.0  "
      ]
     },
     "metadata": {},
     "output_type": "display_data"
    }
   ],
   "source": [
    "dataFrame=pd.read_csv(pathArchivoCSV, encoding='latin-1', sep=\";\")\n",
    "\n",
    "display(dataFrame)"
   ]
  },
  {
   "cell_type": "code",
   "execution_count": null,
   "metadata": {},
   "outputs": [],
   "source": []
  },
  {
   "cell_type": "code",
   "execution_count": null,
   "metadata": {},
   "outputs": [],
   "source": []
  },
  {
   "cell_type": "code",
   "execution_count": null,
   "metadata": {},
   "outputs": [],
   "source": []
  }
 ],
 "metadata": {
  "kernelspec": {
   "display_name": "Python 3",
   "language": "python",
   "name": "python3"
  },
  "language_info": {
   "codemirror_mode": {
    "name": "ipython",
    "version": 3
   },
   "file_extension": ".py",
   "mimetype": "text/x-python",
   "name": "python",
   "nbconvert_exporter": "python",
   "pygments_lexer": "ipython3",
   "version": "3.8.3"
  }
 },
 "nbformat": 4,
 "nbformat_minor": 4
}
