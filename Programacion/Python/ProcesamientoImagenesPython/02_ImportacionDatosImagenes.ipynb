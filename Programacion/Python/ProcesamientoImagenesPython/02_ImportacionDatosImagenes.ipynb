{
 "cells": [
  {
   "cell_type": "code",
   "execution_count": 1,
   "metadata": {},
   "outputs": [
    {
     "name": "stdout",
     "output_type": "stream",
     "text": [
      "[[[  7   8  91]\n",
      "  [  7   8  91]\n",
      "  [  7   8  91]\n",
      "  ...\n",
      "  [139 154 213]\n",
      "  [146 158 218]\n",
      "  [149 161 221]]\n",
      "\n",
      " [[  7   8  91]\n",
      "  [  7   8  91]\n",
      "  [  7   8  91]\n",
      "  ...\n",
      "  [138 152 213]\n",
      "  [145 157 217]\n",
      "  [148 160 220]]\n",
      "\n",
      " [[  7   8  91]\n",
      "  [  7   8  91]\n",
      "  [  7   8  91]\n",
      "  ...\n",
      "  [137 151 212]\n",
      "  [141 155 216]\n",
      "  [144 158 219]]\n",
      "\n",
      " ...\n",
      "\n",
      " [[  7   8  88]\n",
      "  [  7   8  88]\n",
      "  [  7   8  90]\n",
      "  ...\n",
      "  [ 49  77 176]\n",
      "  [ 49  77 176]\n",
      "  [ 49  77 176]]\n",
      "\n",
      " [[  7   8  88]\n",
      "  [  7   8  90]\n",
      "  [  7   8  90]\n",
      "  ...\n",
      "  [ 51  79 178]\n",
      "  [ 51  79 178]\n",
      "  [ 51  79 178]]\n",
      "\n",
      " [[  7   8  88]\n",
      "  [  7   8  90]\n",
      "  [  7   8  91]\n",
      "  ...\n",
      "  [ 52  80 179]\n",
      "  [ 52  80 179]\n",
      "  [ 52  80 179]]]\n"
     ]
    }
   ],
   "source": [
    "import matplotlib.pyplot as plt\n",
    "\n",
    "imagen=plt.imread('Imagenes/fisica.jpg')\n",
    "\n",
    "print(imagen)"
   ]
  },
  {
   "cell_type": "code",
   "execution_count": null,
   "metadata": {},
   "outputs": [],
   "source": []
  }
 ],
 "metadata": {
  "kernelspec": {
   "display_name": "Python 3",
   "language": "python",
   "name": "python3"
  },
  "language_info": {
   "codemirror_mode": {
    "name": "ipython",
    "version": 3
   },
   "file_extension": ".py",
   "mimetype": "text/x-python",
   "name": "python",
   "nbconvert_exporter": "python",
   "pygments_lexer": "ipython3",
   "version": "3.8.3"
  }
 },
 "nbformat": 4,
 "nbformat_minor": 4
}
